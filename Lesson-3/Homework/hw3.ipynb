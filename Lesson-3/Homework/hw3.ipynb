1) Fruits = ['Banan', 'Apple', 'Pineapple', 'Orange', 'Melon']
print(Fruits[3])
  2) A = [1, 2, 3]
B = [4, 5, 6]
A.extend(B)
print(A)
3) A = [1, 2, 3, 4, 5, 6, 7]
B = [A[0], A[3], A[-1]]
print(B)
  4) Movies = ['Harry Potter', 'Avatar', 'Wrath of man', 'The Revenant', 'The Departed']
Movies_List = tuple(Movies)
print(Movies_List)
5) Cities = ['London', 'Washington', 'Istanbul', 'Paris', 'Rome']
print(Cities[3])
  6) A = [1, 2, 3, 4, 5]
B = A[:]
print(B)
  7) A = [1, 2, 3, 4, 5]
A[0], A[-1] = A[-1], A[0]
print(A)
  8) Numbers = [1, 2, 3, 4, 5, 6, 7, 8, 9]
Numbers_Tuple = tuple(Numbers)
print(Numbers_Tuple[3:7])
  9) Colours = "Red, Blue, Black, Blue, Red, Pink, Green" 
print(Colours.count('Blue'))
  10) Animals = ('Tiger', 'Fox', 'Lion', 'Giraffe')
print(Animals.index('Lion'))
  11) Num_1 = (1, 2, 3)
Num_2 = (4, 5, 6)
C = Num_1 + Num_2
print(C) 
  12) Num_1 = [1, 2, 3]
Num_2 = (4, 5, 6)
len(Num_1)
len(Num_2)
  13) Numbers = (1, 2, 3, 4, 5)
Numbers_2 = list(Numbers)
print(Numbers_2)
  14) Numbers = (1, 2, 3, 4, 5)
print(max(Numbers))
print(min(Numbers))
  15) Numbers = [1, 2, 3, 4, 5]
Numbers.reverse()
print(Numbers)
